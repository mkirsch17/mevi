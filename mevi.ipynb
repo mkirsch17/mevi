{
 "cells": [
  {
   "cell_type": "code",
   "execution_count": 1,
   "id": "66a811a8",
   "metadata": {},
   "outputs": [],
   "source": [
    "from moviepy.editor import *"
   ]
  },
  {
   "cell_type": "code",
   "execution_count": 3,
   "id": "569d1613",
   "metadata": {},
   "outputs": [],
   "source": [
    "clip1 = VideoFileClip(\"./assets/DSCF3924.MOV\")#.margin(10) # add 10px contour\n",
    "#clip2 = VideoFileClip(\"./assets/DSCF3466.MOV\")\n",
    "#clip3 = VideoFileClip(\"./assets/DSCF3443.MOV\")\n",
    "clip2 = clip1.fx(vfx.mirror_x)\n",
    "clip3 = clip1.fx( vfx.mirror_y)\n",
    "clip4 = clip1.resize(0.60) # downsize 60%\n",
    "\n",
    "final_clip = clips_array([[clip1, clip2],\n",
    "                          [clip3, clip4]])"
   ]
  },
  {
   "cell_type": "code",
   "execution_count": 4,
   "id": "7c33455f",
   "metadata": {},
   "outputs": [
    {
     "name": "stdout",
     "output_type": "stream",
     "text": [
      "Moviepy - Building video test.mp4.\n",
      "MoviePy - Writing audio in testTEMP_MPY_wvf_snd.mp3\n"
     ]
    },
    {
     "name": "stderr",
     "output_type": "stream",
     "text": [
      "                                                                                                                                                              \r"
     ]
    },
    {
     "name": "stdout",
     "output_type": "stream",
     "text": [
      "MoviePy - Done.\n",
      "Moviepy - Writing video test.mp4\n",
      "\n"
     ]
    },
    {
     "name": "stderr",
     "output_type": "stream",
     "text": [
      "                                                                                                                                                              \r"
     ]
    },
    {
     "name": "stdout",
     "output_type": "stream",
     "text": [
      "Moviepy - Done !\n",
      "Moviepy - video ready test.mp4\n"
     ]
    }
   ],
   "source": [
    "final_clip.resize(width=480).write_videofile(\"test.mp4\")"
   ]
  },
  {
   "cell_type": "code",
   "execution_count": null,
   "id": "39004f32",
   "metadata": {},
   "outputs": [],
   "source": []
  }
 ],
 "metadata": {
  "kernelspec": {
   "display_name": "mevi",
   "language": "python",
   "name": "mevi"
  },
  "language_info": {
   "codemirror_mode": {
    "name": "ipython",
    "version": 3
   },
   "file_extension": ".py",
   "mimetype": "text/x-python",
   "name": "python",
   "nbconvert_exporter": "python",
   "pygments_lexer": "ipython3",
   "version": "3.9.18"
  }
 },
 "nbformat": 4,
 "nbformat_minor": 5
}
